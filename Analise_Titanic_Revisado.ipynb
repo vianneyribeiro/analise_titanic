{
  "nbformat": 4,
  "nbformat_minor": 0,
  "metadata": {
    "colab": {
      "name": "Análise de dados do Titanic.ipynb",
      "version": "0.3.2",
      "provenance": [],
      "collapsed_sections": []
    },
    "kernelspec": {
      "display_name": "Python 3",
      "language": "python",
      "name": "python3"
    }
  },
  "cells": [
    {
      "metadata": {
        "id": "J1N-2lP6v60E",
        "colab_type": "text"
      },
      "cell_type": "markdown",
      "source": [
        "## Titanic - Uma análise dos fatores que foram poderiam ter influência na sobrevivência dos passageiros.\n",
        "\n",
        "---\n",
        "\n",
        "###  Sobre o Titanic\n",
        "O RMS Titanic foi um navio de passageiros britânico operado pela White Star Line e construído pelos estaleiros da Harland and Wolff em Belfast. O Titanic foi pensado para ser o navio mais luxuoso e mais seguro de sua época, gerando lendas que era supostamente \"inafundável\". \n",
        "O Titanic tinha 269 metros de comprimento, 28 metros de largura e 53 metros de altura. Sua arqueação era de aproximadamente 46 mil toneladas, por volta de mil toneladas a mais que o Olympic. Ele operava com uma tripulação de 892 pessoas e podia transportar até 2435 passageiros dispostos em três classes. Além disso, a embarcação também carregava correio e por isso recebeu o prefixo Royal Mail Ship (RMS). Ao todo, o Titanic custou 7,5 milhões de dólares em valores da época. O navio era dividido em dez conveses, sendo o maior navio transatlântico construído até então. \n",
        "\n",
        "### Os passageiros do Titanic\n",
        "O Titanic partiu em sua primeira e única viagem com 1316 passageiros a bordo: 325 na primeira classe, 285 na segunda e 706 na terceira. Deles, 922 embarcaram em Southampton, 274 em Cherbourg-Octeville na França e 120 em Queenstown na Irlanda. Na primeira classe estavam os passageiros mais ricos do navio, dentre eles empresários, artistas, oficiais militares, políticos e outros. A segunda classe era mais diversificada e incluía empresários, professores, clérigos e imigrantes, por vezes ricos, que retornavam ao seu país natal. Por fim, a terceira classe era onde estavam os imigrantes. Eram pessoas que muitas vezes viajavam em grandes grupos familiares de até doze membros. Eles vinham de diferentes partes da Europa como Escandinávia, Leste Europeu, Irlanda e até mesmo da Ásia. Antes do embarque todos foram sujeitos a controles sanitários pois os regulamentos de imigração norte-americana eram bem rigorosos para evitar contaminação. A terceira classe era a única a ser obrigada a passar por esses exames, também estando previsto que novas examinações fossem realizadas assim que chegassem a Nova Iorque.\n",
        "Dentre as quase novecentas pessoas que faziam parte da tripulação do Titanic, 66 pertenciam a tripulação de convés (oficiais, marinheiros, vigias e quartel-mestres), 325 eram mecânicos (carvoeiros, foguistas, graxeiros e especialistas), e por fim 494 eram membros da equipe de atendimento (comissários, mordomos, cozinheiros, operadores de rádio, etc.).\n",
        "\n",
        "###  A Viagem Inaugural e o naufrágio\n",
        "A embarcação partiu em sua viagem inaugural de Southampton para Nova Iorque em 10 de abril de 1912, no caminho passando em Cherbourg-Octeville na França e por Queenstown na Irlanda. Ele colidiu com um iceberg às 23h40min do dia 14 de abril e afundou na madrugada do dia seguinte com mais de 1 500 pessoas a bordo, sendo um dos maiores desastres marítimos em tempos de paz de toda a história. Seu naufrágio destacou vários pontos fracos de seu projeto, deficiências nos procedimentos de evacuação de emergência e falhas nas regulamentações marítimas da época. Comissões de inquérito foram instauradas nos Estados Unidos e no Reino Unido, levando a mudanças nas leis internacionais de navegação que permanecem em vigor mais de um século depois.\n",
        "\n",
        "\n",
        "---\n",
        "\n",
        "## Perguntas Investigadas\n",
        "\n",
        "### 1. Quantas pessoas sobreviveram e quantas não sobreviveram ?\n",
        "\n",
        "###  2. Qual sexo foi predominante no embarque e qual teve mais sobreviventes ?\n",
        "\n",
        "### 3. A classe em que os passageiros estavam influenciou na sobrevivencia?\n",
        "\n",
        "### 4. Qual porto de embarque teve a maior taxa de passageiros sobreviventes ?\n",
        "\n",
        "\n",
        "---\n",
        "###  Início da Análise exploratória de dados dados sobre o Titanic\n",
        "\n",
        "### Para analisar o dataset precisaremos importar algumas bibliotecas do python:\n",
        "#### NumPy, Pandas, Matplotlib\n"
      ]
    },
    {
      "metadata": {
        "id": "2sSM36HabXvD",
        "colab_type": "text"
      },
      "cell_type": "markdown",
      "source": [
        "\n",
        "\n",
        "---\n",
        "\n"
      ]
    },
    {
      "metadata": {
        "id": "Oq6hL5_Ov60S",
        "colab_type": "code",
        "colab": {}
      },
      "cell_type": "code",
      "source": [
        "# Importar as Bibliotecas necessárias ao projeto\n",
        "import numpy as np\n",
        "import pandas as pd\n",
        "import matplotlib.pyplot as plt\n",
        "%matplotlib inline"
      ],
      "execution_count": 0,
      "outputs": []
    },
    {
      "metadata": {
        "id": "h0AEso-5cwCA",
        "colab_type": "text"
      },
      "cell_type": "markdown",
      "source": [
        "#### Importando o arquivo titanic-data-6.csv para o formato dataframe do pandas que chamaremos df_titanic"
      ]
    },
    {
      "metadata": {
        "id": "HgbTTTysv60Z",
        "colab_type": "code",
        "colab": {}
      },
      "cell_type": "code",
      "source": [
        "\n",
        "### Carregando o dataset\n",
        "df_titanic = pd.read_csv('titanic-data-6.csv')"
      ],
      "execution_count": 0,
      "outputs": []
    },
    {
      "metadata": {
        "id": "dq3m9wjEdj7x",
        "colab_type": "text"
      },
      "cell_type": "markdown",
      "source": [
        "#### Listagem dos 20 primeiros registros para conferir as informações"
      ]
    },
    {
      "metadata": {
        "id": "kSao6V9Gdzzz",
        "colab_type": "text"
      },
      "cell_type": "markdown",
      "source": [
        "#### Dicionário de dados presentes no dataframe\n",
        "DICIONÁRIO DE DADOS\n",
        "\n",
        "\n",
        "*   Survived (Sobreviveu): 0 = Não, 1 = Sim \n",
        "*   Pclass (Classe): Classe de ingresso 1 = 1º, 2 = 2º, 3 = 3º\n",
        "*   Sex (Sexo): Sexo do passageiro\n",
        "*   Age (Idade): Idade em anos\n",
        "*   Sibsp: Quantidade de irmãos / cônjuges a bordo do Titanic\n",
        "*   Parch: Quantidade de pais / crianças a bordo do Titanic\n",
        "*   Ticket (Bilhete): Número do bilhete de embarque\n",
        "*   Fare (Tarifa): Tarifa paga pelo Passageiro\n",
        "*   Cabin (Cabine): Número de cabine\n",
        "*   Embarked (Embarque): Porto de Embarque (C = Cherbourg, Q = Queenstown, S = Southampton)\n",
        "\n",
        "\n",
        "Notas sobre as variáveis\n",
        "\n",
        "* Pclass (Classe): 1º = Superior 2º = Médio 3º = inferior\n",
        "\n",
        "* Age (Idade): A idade é fracionada se for inferior a 1. Se a idade for estimada, é na forma de xx.5\n",
        "\n",
        "Sibsp: O conjunto de dados define as relações familiares dessa maneira …\n",
        "* Sibling = Irmão, irmã, meio-irmão, irmandade\n",
        "* Spouse (Cônjuge) = marido, esposa (amantes e desposados foram ignorados)\n",
        "\n",
        "Parch: O conjunto de dados define as relações familiares dessa maneira …\n",
        "* Parent (Pais) = mãe, pai\n",
        "* Child (Criança) = filha, filho, enteada, enteado. Algumas crianças viajaram apenas com uma babá, portanto, parch = 0 para elas."
      ]
    },
    {
      "metadata": {
        "id": "fuEMoF3ov60m",
        "colab_type": "code",
        "colab": {
          "base_uri": "https://localhost:8080/",
          "height": 195
        },
        "outputId": "9d41edbd-6e88-4de3-eeeb-6c7ab93c20e8"
      },
      "cell_type": "code",
      "source": [
        "\n",
        "df_titanic.head()"
      ],
      "execution_count": 3,
      "outputs": [
        {
          "output_type": "execute_result",
          "data": {
            "text/html": [
              "<div>\n",
              "<style scoped>\n",
              "    .dataframe tbody tr th:only-of-type {\n",
              "        vertical-align: middle;\n",
              "    }\n",
              "\n",
              "    .dataframe tbody tr th {\n",
              "        vertical-align: top;\n",
              "    }\n",
              "\n",
              "    .dataframe thead th {\n",
              "        text-align: right;\n",
              "    }\n",
              "</style>\n",
              "<table border=\"1\" class=\"dataframe\">\n",
              "  <thead>\n",
              "    <tr style=\"text-align: right;\">\n",
              "      <th></th>\n",
              "      <th>PassengerId</th>\n",
              "      <th>Survived</th>\n",
              "      <th>Pclass</th>\n",
              "      <th>Name</th>\n",
              "      <th>Sex</th>\n",
              "      <th>Age</th>\n",
              "      <th>SibSp</th>\n",
              "      <th>Parch</th>\n",
              "      <th>Ticket</th>\n",
              "      <th>Fare</th>\n",
              "      <th>Cabin</th>\n",
              "      <th>Embarked</th>\n",
              "    </tr>\n",
              "  </thead>\n",
              "  <tbody>\n",
              "    <tr>\n",
              "      <th>0</th>\n",
              "      <td>1</td>\n",
              "      <td>0</td>\n",
              "      <td>3</td>\n",
              "      <td>Braund, Mr. Owen Harris</td>\n",
              "      <td>male</td>\n",
              "      <td>22.0</td>\n",
              "      <td>1</td>\n",
              "      <td>0</td>\n",
              "      <td>A/5 21171</td>\n",
              "      <td>7.2500</td>\n",
              "      <td>NaN</td>\n",
              "      <td>S</td>\n",
              "    </tr>\n",
              "    <tr>\n",
              "      <th>1</th>\n",
              "      <td>2</td>\n",
              "      <td>1</td>\n",
              "      <td>1</td>\n",
              "      <td>Cumings, Mrs. John Bradley (Florence Briggs Th...</td>\n",
              "      <td>female</td>\n",
              "      <td>38.0</td>\n",
              "      <td>1</td>\n",
              "      <td>0</td>\n",
              "      <td>PC 17599</td>\n",
              "      <td>71.2833</td>\n",
              "      <td>C85</td>\n",
              "      <td>C</td>\n",
              "    </tr>\n",
              "    <tr>\n",
              "      <th>2</th>\n",
              "      <td>3</td>\n",
              "      <td>1</td>\n",
              "      <td>3</td>\n",
              "      <td>Heikkinen, Miss. Laina</td>\n",
              "      <td>female</td>\n",
              "      <td>26.0</td>\n",
              "      <td>0</td>\n",
              "      <td>0</td>\n",
              "      <td>STON/O2. 3101282</td>\n",
              "      <td>7.9250</td>\n",
              "      <td>NaN</td>\n",
              "      <td>S</td>\n",
              "    </tr>\n",
              "    <tr>\n",
              "      <th>3</th>\n",
              "      <td>4</td>\n",
              "      <td>1</td>\n",
              "      <td>1</td>\n",
              "      <td>Futrelle, Mrs. Jacques Heath (Lily May Peel)</td>\n",
              "      <td>female</td>\n",
              "      <td>35.0</td>\n",
              "      <td>1</td>\n",
              "      <td>0</td>\n",
              "      <td>113803</td>\n",
              "      <td>53.1000</td>\n",
              "      <td>C123</td>\n",
              "      <td>S</td>\n",
              "    </tr>\n",
              "    <tr>\n",
              "      <th>4</th>\n",
              "      <td>5</td>\n",
              "      <td>0</td>\n",
              "      <td>3</td>\n",
              "      <td>Allen, Mr. William Henry</td>\n",
              "      <td>male</td>\n",
              "      <td>35.0</td>\n",
              "      <td>0</td>\n",
              "      <td>0</td>\n",
              "      <td>373450</td>\n",
              "      <td>8.0500</td>\n",
              "      <td>NaN</td>\n",
              "      <td>S</td>\n",
              "    </tr>\n",
              "  </tbody>\n",
              "</table>\n",
              "</div>"
            ],
            "text/plain": [
              "   PassengerId  Survived  Pclass  \\\n",
              "0            1         0       3   \n",
              "1            2         1       1   \n",
              "2            3         1       3   \n",
              "3            4         1       1   \n",
              "4            5         0       3   \n",
              "\n",
              "                                                Name     Sex   Age  SibSp  \\\n",
              "0                            Braund, Mr. Owen Harris    male  22.0      1   \n",
              "1  Cumings, Mrs. John Bradley (Florence Briggs Th...  female  38.0      1   \n",
              "2                             Heikkinen, Miss. Laina  female  26.0      0   \n",
              "3       Futrelle, Mrs. Jacques Heath (Lily May Peel)  female  35.0      1   \n",
              "4                           Allen, Mr. William Henry    male  35.0      0   \n",
              "\n",
              "   Parch            Ticket     Fare Cabin Embarked  \n",
              "0      0         A/5 21171   7.2500   NaN        S  \n",
              "1      0          PC 17599  71.2833   C85        C  \n",
              "2      0  STON/O2. 3101282   7.9250   NaN        S  \n",
              "3      0            113803  53.1000  C123        S  \n",
              "4      0            373450   8.0500   NaN        S  "
            ]
          },
          "metadata": {
            "tags": []
          },
          "execution_count": 3
        }
      ]
    },
    {
      "metadata": {
        "id": "ayS2qB_XgaTt",
        "colab_type": "text"
      },
      "cell_type": "markdown",
      "source": [
        "### Definição de uma função que retorne informações sobre o dataset\n",
        "Linhas, Colunas, Linhas Duplicadas e dados faltantes"
      ]
    },
    {
      "metadata": {
        "id": "_PDC1iChv603",
        "colab_type": "code",
        "colab": {}
      },
      "cell_type": "code",
      "source": [
        "# info_dataset\n",
        "# input: pandas dataframe\n",
        "# output: linhas, colunas,linhas duplicadas e dados faltantes\n",
        "def info_dataset(df):\n",
        "  faltantes = df.shape[0] - df.dropna().shape[0]\n",
        "  faltantes_tabela = df.isnull().sum()\n",
        "  print (\"Informações sobre o dataset:\")\n",
        "  print ('Linhas: {}'.format(df.shape[0]))\n",
        "  print ('Colunas: {}'.format(df.shape[1]))\n",
        "  print ('Linhas duplicadas: {}'.format(sum(df.duplicated())))\n",
        "  print ('Dados faltantes: {}'.format (faltantes))\n",
        "  print ('-------------------------')\n",
        "  print (faltantes_tabela)"
      ],
      "execution_count": 0,
      "outputs": []
    },
    {
      "metadata": {
        "id": "CgLQLbfmjrkk",
        "colab_type": "text"
      },
      "cell_type": "markdown",
      "source": [
        "### Resumo dos dados encontrados no dataset"
      ]
    },
    {
      "metadata": {
        "id": "lM3PpVrqj3ww",
        "colab_type": "code",
        "colab": {
          "base_uri": "https://localhost:8080/",
          "height": 336
        },
        "outputId": "27293a6f-ec07-4e7d-ae92-1cbe077944a1"
      },
      "cell_type": "code",
      "source": [
        "info_dataset(df_titanic)"
      ],
      "execution_count": 5,
      "outputs": [
        {
          "output_type": "stream",
          "text": [
            "Informações sobre o dataset:\n",
            "Linhas: 891\n",
            "Colunas: 12\n",
            "Linhas duplicadas: 0\n",
            "Dados faltantes: 708\n",
            "-------------------------\n",
            "PassengerId      0\n",
            "Survived         0\n",
            "Pclass           0\n",
            "Name             0\n",
            "Sex              0\n",
            "Age            177\n",
            "SibSp            0\n",
            "Parch            0\n",
            "Ticket           0\n",
            "Fare             0\n",
            "Cabin          687\n",
            "Embarked         2\n",
            "dtype: int64\n"
          ],
          "name": "stdout"
        }
      ]
    },
    {
      "metadata": {
        "id": "f95JUu_vg62J",
        "colab_type": "text"
      },
      "cell_type": "markdown",
      "source": [
        "## Início da preparação do dataset df_titanic para análise"
      ]
    },
    {
      "metadata": {
        "id": "vqLFa67hhvz7",
        "colab_type": "text"
      },
      "cell_type": "markdown",
      "source": [
        "### 1. Remoção de colunas sem dados significantes para análise:\n",
        "* PassengerId - não tem informações determinantes\n",
        "* Cabin - tem menos da metade dos dados dos passageiros\n",
        "* Ticket - seus valores não contribuem para análise\n"
      ]
    },
    {
      "metadata": {
        "id": "ccO7yEgtjJ_o",
        "colab_type": "code",
        "colab": {}
      },
      "cell_type": "code",
      "source": [
        "colunas_nao_utilizadas = ['Ticket', 'Cabin', 'PassengerId']\n",
        "df_titanic.drop (colunas_nao_utilizadas, axis=1, inplace=True)"
      ],
      "execution_count": 0,
      "outputs": []
    },
    {
      "metadata": {
        "id": "QmkrcYWDjTbN",
        "colab_type": "text"
      },
      "cell_type": "markdown",
      "source": [
        "### 2. Análise dos dados faltantes no dataset para completar as 891 linhas\n",
        "As colunas 'Age' , 'Embarked' e 'Cabin' não estão completas,\n",
        "* 'Age' faltam 177 dados\n",
        "* 'Embarked' faltam 2 dados\n",
        "* 'Cabin' faltam 687 dados\n",
        "*Cabin já foi removida no passo anterior"
      ]
    },
    {
      "metadata": {
        "id": "kmylBP68nBjF",
        "colab_type": "text"
      },
      "cell_type": "markdown",
      "source": [
        "### 3. O tratamento para a coluna 'Age' com a falta de 177 dados\n",
        "* Essa quantidade de dados é de interesse e não pode ser desperdiçada\n",
        "* Para ficar utilizável precisamos completar os dados faltantes com a média da coluna\n",
        "\n",
        "### 3.1 Cálculo da média dos valores da coluna "
      ]
    },
    {
      "metadata": {
        "id": "04s9UHbcoD0F",
        "colab_type": "code",
        "colab": {
          "base_uri": "https://localhost:8080/",
          "height": 34
        },
        "outputId": "f4cddb6f-423c-48e5-833b-7de6692b4a43"
      },
      "cell_type": "code",
      "source": [
        "media = df_titanic['Age'].mean()\n",
        "print('Média de idade encontrada: {:.1f}'.format(media))"
      ],
      "execution_count": 7,
      "outputs": [
        {
          "output_type": "stream",
          "text": [
            "Média de idade encontrada: 29.7\n"
          ],
          "name": "stdout"
        }
      ]
    },
    {
      "metadata": {
        "id": "RE0QB07-oIKr",
        "colab_type": "text"
      },
      "cell_type": "markdown",
      "source": [
        "###  3.2 Completando as idades faltantes com a media das idades"
      ]
    },
    {
      "metadata": {
        "id": "PiE5-AHOoXF8",
        "colab_type": "code",
        "colab": {}
      },
      "cell_type": "code",
      "source": [
        "df_titanic['Age'].fillna(media, inplace=True)"
      ],
      "execution_count": 0,
      "outputs": []
    },
    {
      "metadata": {
        "id": "r-L1_BTTodLy",
        "colab_type": "text"
      },
      "cell_type": "markdown",
      "source": [
        "### 4. Para a coluna embarked,só existem 2 passageiros sem essas infomações, vamos optar incluir 'Ausente' no local de embarque"
      ]
    },
    {
      "metadata": {
        "id": "DFc4tn8PoxLW",
        "colab_type": "code",
        "colab": {}
      },
      "cell_type": "code",
      "source": [
        "df_titanic['Embarked'].value_counts()\n",
        "df_titanic['Embarked'].fillna('Ausente', inplace=True)"
      ],
      "execution_count": 0,
      "outputs": []
    },
    {
      "metadata": {
        "id": "wVxXWWsqpSwP",
        "colab_type": "text"
      },
      "cell_type": "markdown",
      "source": [
        "#### Utilizando a função 'info_dataset' para verificar se o dataframe ficou com os dados completos sem faltar nenhum dado\n"
      ]
    },
    {
      "metadata": {
        "id": "mhlKxovDpP75",
        "colab_type": "code",
        "colab": {
          "base_uri": "https://localhost:8080/",
          "height": 286
        },
        "outputId": "ba7be311-d6c0-4e9a-d8dc-cf75758351b8"
      },
      "cell_type": "code",
      "source": [
        "info_dataset(df_titanic)"
      ],
      "execution_count": 10,
      "outputs": [
        {
          "output_type": "stream",
          "text": [
            "Informações sobre o dataset:\n",
            "Linhas: 891\n",
            "Colunas: 9\n",
            "Linhas duplicadas: 0\n",
            "Dados faltantes: 0\n",
            "-------------------------\n",
            "Survived    0\n",
            "Pclass      0\n",
            "Name        0\n",
            "Sex         0\n",
            "Age         0\n",
            "SibSp       0\n",
            "Parch       0\n",
            "Fare        0\n",
            "Embarked    0\n",
            "dtype: int64\n"
          ],
          "name": "stdout"
        }
      ]
    },
    {
      "metadata": {
        "id": "quw51z5cpycg",
        "colab_type": "text"
      },
      "cell_type": "markdown",
      "source": [
        "### Alterações para facilitar a leitura do dataframe"
      ]
    },
    {
      "metadata": {
        "id": "RKP3xh2op-zz",
        "colab_type": "text"
      },
      "cell_type": "markdown",
      "source": [
        "### 5. Traduzindo os nomes das colunas para Português para facilitar a leitura e entendimento"
      ]
    },
    {
      "metadata": {
        "id": "RgUduZ8xqWhc",
        "colab_type": "code",
        "colab": {}
      },
      "cell_type": "code",
      "source": [
        "colunas_pt = ['Sobreviveu', 'Classe', 'Nome','Sexo', 'Idade', 'Irmaos_conjuge', 'Pais_criancas', 'Valor_ticket', 'Embarque']\n",
        "df_titanic.columns = colunas_pt"
      ],
      "execution_count": 0,
      "outputs": []
    },
    {
      "metadata": {
        "id": "AYFrnLnZqdTX",
        "colab_type": "text"
      },
      "cell_type": "markdown",
      "source": [
        "### 6. Alterando dados do local do embarque que contenha o nome do porto completo ao invés das iniciais"
      ]
    },
    {
      "metadata": {
        "id": "fwqT1o7Zqtxi",
        "colab_type": "code",
        "colab": {}
      },
      "cell_type": "code",
      "source": [
        "df_titanic['Embarque'].replace(['S','C','Q'],['Southamptom','Cherburg','Queenstown'], inplace=True)"
      ],
      "execution_count": 0,
      "outputs": []
    },
    {
      "metadata": {
        "id": "4097p6BAq94c",
        "colab_type": "text"
      },
      "cell_type": "markdown",
      "source": [
        "### 7. Alterando os atributos para sexo de 'male' e 'female' para 'Masculino' e 'Feminino'"
      ]
    },
    {
      "metadata": {
        "id": "mMQYCl7frZCg",
        "colab_type": "code",
        "colab": {}
      },
      "cell_type": "code",
      "source": [
        "df_titanic['Sexo'].replace(['male','female'],['Masculino', 'Feminino'], inplace=True)"
      ],
      "execution_count": 0,
      "outputs": []
    },
    {
      "metadata": {
        "id": "ky-un7yRrc_8",
        "colab_type": "text"
      },
      "cell_type": "markdown",
      "source": [
        "### 8. Alterando os atributos de sobrevivência: 0 para 'Não' e 1 para 'Sim'"
      ]
    },
    {
      "metadata": {
        "id": "EjRynKm_ryb6",
        "colab_type": "code",
        "colab": {}
      },
      "cell_type": "code",
      "source": [
        "df_titanic['Sobreviveu'].replace([0,1],['Não','Sim'], inplace = True)"
      ],
      "execution_count": 0,
      "outputs": []
    },
    {
      "metadata": {
        "id": "2YwrqpWRr4IG",
        "colab_type": "text"
      },
      "cell_type": "markdown",
      "source": [
        "### 9. Alterando numero da classe do passageiro pelo nome ordinal"
      ]
    },
    {
      "metadata": {
        "id": "Yv1z8XfFr-Fu",
        "colab_type": "code",
        "colab": {}
      },
      "cell_type": "code",
      "source": [
        "df_titanic['Classe'].replace([1,2,3], ['Primeira','Segunda','Terceira'], inplace=True)"
      ],
      "execution_count": 0,
      "outputs": []
    },
    {
      "metadata": {
        "id": "3y_Hi99isF2M",
        "colab_type": "text"
      },
      "cell_type": "markdown",
      "source": [
        "### Amostra do dataframe com as alterações "
      ]
    },
    {
      "metadata": {
        "id": "kNcTMytcv60_",
        "colab_type": "code",
        "colab": {
          "base_uri": "https://localhost:8080/",
          "height": 195
        },
        "outputId": "6e37a94a-98d9-4a65-956c-d918bdc848b2"
      },
      "cell_type": "code",
      "source": [
        "df_titanic.head()\n"
      ],
      "execution_count": 16,
      "outputs": [
        {
          "output_type": "execute_result",
          "data": {
            "text/html": [
              "<div>\n",
              "<style scoped>\n",
              "    .dataframe tbody tr th:only-of-type {\n",
              "        vertical-align: middle;\n",
              "    }\n",
              "\n",
              "    .dataframe tbody tr th {\n",
              "        vertical-align: top;\n",
              "    }\n",
              "\n",
              "    .dataframe thead th {\n",
              "        text-align: right;\n",
              "    }\n",
              "</style>\n",
              "<table border=\"1\" class=\"dataframe\">\n",
              "  <thead>\n",
              "    <tr style=\"text-align: right;\">\n",
              "      <th></th>\n",
              "      <th>Sobreviveu</th>\n",
              "      <th>Classe</th>\n",
              "      <th>Nome</th>\n",
              "      <th>Sexo</th>\n",
              "      <th>Idade</th>\n",
              "      <th>Irmaos_conjuge</th>\n",
              "      <th>Pais_criancas</th>\n",
              "      <th>Valor_ticket</th>\n",
              "      <th>Embarque</th>\n",
              "    </tr>\n",
              "  </thead>\n",
              "  <tbody>\n",
              "    <tr>\n",
              "      <th>0</th>\n",
              "      <td>Não</td>\n",
              "      <td>Terceira</td>\n",
              "      <td>Braund, Mr. Owen Harris</td>\n",
              "      <td>Masculino</td>\n",
              "      <td>22.0</td>\n",
              "      <td>1</td>\n",
              "      <td>0</td>\n",
              "      <td>7.2500</td>\n",
              "      <td>Southamptom</td>\n",
              "    </tr>\n",
              "    <tr>\n",
              "      <th>1</th>\n",
              "      <td>Sim</td>\n",
              "      <td>Primeira</td>\n",
              "      <td>Cumings, Mrs. John Bradley (Florence Briggs Th...</td>\n",
              "      <td>Feminino</td>\n",
              "      <td>38.0</td>\n",
              "      <td>1</td>\n",
              "      <td>0</td>\n",
              "      <td>71.2833</td>\n",
              "      <td>Cherburg</td>\n",
              "    </tr>\n",
              "    <tr>\n",
              "      <th>2</th>\n",
              "      <td>Sim</td>\n",
              "      <td>Terceira</td>\n",
              "      <td>Heikkinen, Miss. Laina</td>\n",
              "      <td>Feminino</td>\n",
              "      <td>26.0</td>\n",
              "      <td>0</td>\n",
              "      <td>0</td>\n",
              "      <td>7.9250</td>\n",
              "      <td>Southamptom</td>\n",
              "    </tr>\n",
              "    <tr>\n",
              "      <th>3</th>\n",
              "      <td>Sim</td>\n",
              "      <td>Primeira</td>\n",
              "      <td>Futrelle, Mrs. Jacques Heath (Lily May Peel)</td>\n",
              "      <td>Feminino</td>\n",
              "      <td>35.0</td>\n",
              "      <td>1</td>\n",
              "      <td>0</td>\n",
              "      <td>53.1000</td>\n",
              "      <td>Southamptom</td>\n",
              "    </tr>\n",
              "    <tr>\n",
              "      <th>4</th>\n",
              "      <td>Não</td>\n",
              "      <td>Terceira</td>\n",
              "      <td>Allen, Mr. William Henry</td>\n",
              "      <td>Masculino</td>\n",
              "      <td>35.0</td>\n",
              "      <td>0</td>\n",
              "      <td>0</td>\n",
              "      <td>8.0500</td>\n",
              "      <td>Southamptom</td>\n",
              "    </tr>\n",
              "  </tbody>\n",
              "</table>\n",
              "</div>"
            ],
            "text/plain": [
              "  Sobreviveu    Classe                                               Nome  \\\n",
              "0        Não  Terceira                            Braund, Mr. Owen Harris   \n",
              "1        Sim  Primeira  Cumings, Mrs. John Bradley (Florence Briggs Th...   \n",
              "2        Sim  Terceira                             Heikkinen, Miss. Laina   \n",
              "3        Sim  Primeira       Futrelle, Mrs. Jacques Heath (Lily May Peel)   \n",
              "4        Não  Terceira                           Allen, Mr. William Henry   \n",
              "\n",
              "        Sexo  Idade  Irmaos_conjuge  Pais_criancas  Valor_ticket     Embarque  \n",
              "0  Masculino   22.0               1              0        7.2500  Southamptom  \n",
              "1   Feminino   38.0               1              0       71.2833     Cherburg  \n",
              "2   Feminino   26.0               0              0        7.9250  Southamptom  \n",
              "3   Feminino   35.0               1              0       53.1000  Southamptom  \n",
              "4  Masculino   35.0               0              0        8.0500  Southamptom  "
            ]
          },
          "metadata": {
            "tags": []
          },
          "execution_count": 16
        }
      ]
    },
    {
      "metadata": {
        "id": "T9yjuua0s_RL",
        "colab_type": "text"
      },
      "cell_type": "markdown",
      "source": [
        "### O dataframe encontra-se agora limpo e pronto para responder as questões propostas"
      ]
    },
    {
      "metadata": {
        "id": "ePY-98SCwuRf",
        "colab_type": "text"
      },
      "cell_type": "markdown",
      "source": [
        "## Respondendo aos questionamentos"
      ]
    },
    {
      "metadata": {
        "id": "Kez2pjFnxUrw",
        "colab_type": "text"
      },
      "cell_type": "markdown",
      "source": [
        "### 1. Quantas pessoas sobreviveram e quantas não sobreviveram ?"
      ]
    },
    {
      "metadata": {
        "id": "GAYKG0hMxdg7",
        "colab_type": "text"
      },
      "cell_type": "markdown",
      "source": [
        "### Para responder esse questionamento precisamos fazer alguns procedimentos com o dataset:\n",
        "* Separar os dados dos sobreviventes dos não sobreviventes"
      ]
    },
    {
      "metadata": {
        "id": "HjxFZsnByL7O",
        "colab_type": "code",
        "colab": {}
      },
      "cell_type": "code",
      "source": [
        "sobreviv = df_titanic.query('Sobreviveu == \"Sim\"')\n",
        "n_sobreviv = df_titanic.query('Sobreviveu == \"Não\"')"
      ],
      "execution_count": 0,
      "outputs": []
    },
    {
      "metadata": {
        "id": "KzV9f2DpyU6X",
        "colab_type": "text"
      },
      "cell_type": "markdown",
      "source": [
        "* Fazer a contagem dos grupos separados"
      ]
    },
    {
      "metadata": {
        "id": "oZrn023iw6RJ",
        "colab_type": "code",
        "colab": {
          "base_uri": "https://localhost:8080/",
          "height": 67
        },
        "outputId": "5c3ba1c3-4edf-4e1c-9c66-ba0860ce2708"
      },
      "cell_type": "code",
      "source": [
        "qtd_sobreviv = sobreviv.shape[0]\n",
        "qtd_n_sobreviv = n_sobreviv.shape[0]\n",
        "total_passageiros = qtd_sobreviv + qtd_n_sobreviv\n",
        "print('Sobreviveram: {} passageiros'.format(qtd_sobreviv))\n",
        "print('Não Sobreviveram: {} passageiros'.format(qtd_n_sobreviv))\n",
        "print(\"Total (Sobreviventes + Não Sobreviventes): {}\".format(total_passageiros))"
      ],
      "execution_count": 27,
      "outputs": [
        {
          "output_type": "stream",
          "text": [
            "Sobreviveram: 342 passageiros\n",
            "Não Sobreviveram: 549 passageiros\n",
            "Total (Sobreviventes + Não Sobreviventes): 891\n"
          ],
          "name": "stdout"
        }
      ]
    },
    {
      "metadata": {
        "id": "iD0wEaSgtKqg",
        "colab_type": "text"
      },
      "cell_type": "markdown",
      "source": [
        "* Gráfico em pizza da relação: Sobreviventes x Não Sobreviventes\n"
      ]
    },
    {
      "metadata": {
        "id": "juGDydkIw9IF",
        "colab_type": "code",
        "colab": {
          "base_uri": "https://localhost:8080/",
          "height": 263
        },
        "outputId": "4a27cab5-1c53-4ff9-bf8f-d5247e50a8cb"
      },
      "cell_type": "code",
      "source": [
        "## Passageiros: Sobreviventes x Não Sobreviventes \n",
        "x_list=[qtd_sobreviv,qtd_n_sobreviv]\n",
        "labels_list=['Sobreviventes: {}'.format(qtd_sobreviv), 'Não Sobreviventes: {}'.format(qtd_n_sobreviv)]\n",
        "plt.axis('equal')\n",
        "plt.pie(x_list, labels=labels_list, autopct='%1.1f%%')\n",
        "plt.title('Passageiros: Sobreviventes x Não Sobreviventes')\n",
        "plt.show();\n"
      ],
      "execution_count": 30,
      "outputs": [
        {
          "output_type": "display_data",
          "data": {
            "image/png": "[encoded data removed]",
            "text/plain": [
              "<matplotlib.figure.Figure at 0x7f4dd9e4e748>"
            ]
          },
          "metadata": {
            "tags": []
          }
        }
      ]
    },
    {
      "metadata": {
        "id": "4fqM254MtU0Z",
        "colab_type": "text"
      },
      "cell_type": "markdown",
      "source": [
        "### 2. Qual sexo foi predominante no embarque e qual teve mais sobreviventes ?\n"
      ]
    },
    {
      "metadata": {
        "id": "_lh5Pdrbzpn2",
        "colab_type": "text"
      },
      "cell_type": "markdown",
      "source": [
        "* Para responder o questionamento, separamos o dataframe por sexo e realizamos a contagem em separado"
      ]
    },
    {
      "metadata": {
        "id": "BOqXSII80Isy",
        "colab_type": "code",
        "colab": {
          "base_uri": "https://localhost:8080/",
          "height": 50
        },
        "outputId": "ffcd129a-d7ec-4840-90aa-4f09438de18e"
      },
      "cell_type": "code",
      "source": [
        "### Passageiros: Distribuição por Sexo\n",
        "masculino = df_titanic.query('Sexo == \"Masculino\"').shape[0]\n",
        "feminino = df_titanic.query('Sexo == \"Feminino\"').shape[0]\n",
        "total_sex = masculino+feminino\n",
        "print('Total de Passageiros {}: Homens: {}, Mulheres: {}'.format(total_sex, masculino,feminino))\n",
        "print('Verificamos que mais de 60% dos passageiros era do sexo masculino')"
      ],
      "execution_count": 32,
      "outputs": [
        {
          "output_type": "stream",
          "text": [
            "Total de Passageiros 891: Homens: 577, Mulheres: 314\n",
            "Verificamos que mais de 60% dos passageiros era do sexo masculino\n"
          ],
          "name": "stdout"
        }
      ]
    },
    {
      "metadata": {
        "id": "PkRVLAtI4_OU",
        "colab_type": "text"
      },
      "cell_type": "markdown",
      "source": [
        "* Gráfico da distribuição dos passageiros por sexo"
      ]
    },
    {
      "metadata": {
        "id": "-7zrId1nuL1Y",
        "colab_type": "code",
        "colab": {
          "base_uri": "https://localhost:8080/",
          "height": 263
        },
        "outputId": "1896d231-738d-4ddd-b044-c846fd4afb67"
      },
      "cell_type": "code",
      "source": [
        "\n",
        "x_sexo=[masculino,feminino]\n",
        "labels_sex=['Mulheres: {}'.format(feminino), 'Homens: {}'.format(masculino)]\n",
        "plt.axis('equal')\n",
        "plt.pie(x_list, labels=labels_sex, autopct='%1.1f%%')\n",
        "plt.title('Passageiros: Distribuição por sexo')\n",
        "plt.show()\n"
      ],
      "execution_count": 40,
      "outputs": [
        {
          "output_type": "display_data",
          "data": {
            "image/png": "[encoded data removed]",
            "text/plain": [
              "<matplotlib.figure.Figure at 0x7f4dd9ddff98>"
            ]
          },
          "metadata": {
            "tags": []
          }
        }
      ]
    },
    {
      "metadata": {
        "id": "i66NKl5k5gqb",
        "colab_type": "text"
      },
      "cell_type": "markdown",
      "source": [
        "### 2.1 Qual sexo teve mais sobreviventes ?\n",
        "* Através do filtro da lista de sobreviventes (sobreviv) realizada na questão 1, faremos um filtro por sexo e realizamos a contagem"
      ]
    },
    {
      "metadata": {
        "id": "6yuJ-lLl5r1z",
        "colab_type": "code",
        "colab": {
          "base_uri": "https://localhost:8080/",
          "height": 50
        },
        "outputId": "441cc58c-3853-41ea-d32c-7dab012c2c09"
      },
      "cell_type": "code",
      "source": [
        "### Sobreviventes por sexo\n",
        "sob_homens = sobreviv.query('Sexo == \"Masculino\"').shape[0]\n",
        "sob_mulheres = sobreviv.query('Sexo == \"Feminino\"').shape[0]\n",
        "print('Sobreviveram {} Homens e {} Mulheres'.format(sob_homens, sob_mulheres))\n",
        "print('O sexo feminino foi o que mais sobreviveu')"
      ],
      "execution_count": 44,
      "outputs": [
        {
          "output_type": "stream",
          "text": [
            "Sobreviveram 109 Homens e 233 Mulheres\n",
            "O sexo feminino foi o que mais sobreviveu\n"
          ],
          "name": "stdout"
        }
      ]
    },
    {
      "metadata": {
        "id": "8knnOweu7eQs",
        "colab_type": "text"
      },
      "cell_type": "markdown",
      "source": [
        "* Gráfico dos sobreviventes por sexo"
      ]
    },
    {
      "metadata": {
        "id": "Ko5xappS5b-o",
        "colab_type": "code",
        "colab": {
          "base_uri": "https://localhost:8080/",
          "height": 297
        },
        "outputId": "948c1ddf-c9c2-4fdb-cfac-1e7eb417f129"
      },
      "cell_type": "code",
      "source": [
        "### Grafico: Sobreviventes por sexo\n",
        "x_list_sexo=[sob_homens,sob_mulheres]\n",
        "labels_sex=['Homens: {}'.format(sob_homens),'Mulheres: {}'.format(sob_mulheres) ]\n",
        "plt.axis('equal')\n",
        "plt.pie(x_list_sexo, labels=labels_sex, autopct='%1.1f%%')\n",
        "plt.title('Sobreviventes por sexo')\n",
        "plt.show()\n",
        "print('Os homens, maioria dos passageiros, foram os que menos se salvaram 31,9%')\n",
        "print('O sexo feminino teve uma taxa de sobrevivência de 68,1%')"
      ],
      "execution_count": 46,
      "outputs": [
        {
          "output_type": "display_data",
          "data": {
            "image/png": "[encoded data removed]",
            "text/plain": [
              "<matplotlib.figure.Figure at 0x7f4dd9d5f780>"
            ]
          },
          "metadata": {
            "tags": []
          }
        },
        {
          "output_type": "stream",
          "text": [
            "Os homens, maioria dos passageiros, foram os que menos se salvaram 31,9%\n",
            "O sexo feminino teve uma taxa de sobrevivência de68,1%\n"
          ],
          "name": "stdout"
        }
      ]
    },
    {
      "metadata": {
        "id": "UQbhHtj11rIt",
        "colab_type": "text"
      },
      "cell_type": "markdown",
      "source": [
        "### 3. A classe em que os passageiros estavam influenciou na sua sobrevivência?\n",
        "\n",
        "* A partir da lista de total de passageiros embarcados filtramos suas classes no Titanic"
      ]
    },
    {
      "metadata": {
        "id": "J3dfiDva80ou",
        "colab_type": "code",
        "colab": {
          "base_uri": "https://localhost:8080/",
          "height": 50
        },
        "outputId": "ebe23265-b50d-4631-e11c-bd782cad220a"
      },
      "cell_type": "code",
      "source": [
        "\n",
        "t_primeira = df_titanic.query('Classe == \"Primeira\"').shape[0]\n",
        "t_segunda = df_titanic.query('Classe == \"Segunda\"').shape[0]\n",
        "t_terceira = df_titanic.query('Classe == \"Terceira\"').shape[0]\n",
        "print('Quantidade de passageiros embarcados por classe:')\n",
        "print('Primeira: {}, Segunda: {}, Terceira: {}'.format(t_primeira,t_segunda, t_terceira))"
      ],
      "execution_count": 58,
      "outputs": [
        {
          "output_type": "stream",
          "text": [
            "Quantidade de passageiros embarcados por classe:\n",
            "Primeira: 216, Segunda: 184, Terceira: 491\n"
          ],
          "name": "stdout"
        }
      ]
    },
    {
      "metadata": {
        "id": "I73_Dvaz9HIG",
        "colab_type": "text"
      },
      "cell_type": "markdown",
      "source": [
        "* Agora a obtemos a lista de sobreviventes por classe\n"
      ]
    },
    {
      "metadata": {
        "id": "0GIRY-ud9VeU",
        "colab_type": "code",
        "colab": {
          "base_uri": "https://localhost:8080/",
          "height": 50
        },
        "outputId": "1f225844-cc78-401e-ff48-e7e2efc0c839"
      },
      "cell_type": "code",
      "source": [
        "sob_primeira = sobreviv.query('Classe == \"Primeira\"').shape[0]\n",
        "sob_segunda = sobreviv.query('Classe == \"Segunda\"').shape[0]\n",
        "sob_terceira = sobreviv.query('Classe == \"Terceira\"').shape[0]\n",
        "print('Quantidade de sobreviventes embarcados por classe:')\n",
        "print('Primeira: {}, Segunda: {}, Terceira: {}'.format(sob_primeira,sob_segunda, sob_terceira))"
      ],
      "execution_count": 59,
      "outputs": [
        {
          "output_type": "stream",
          "text": [
            "Quantidade de sobreviventes embarcados por classe:\n",
            "Primeira: 136, Segunda: 87, Terceira: 119\n"
          ],
          "name": "stdout"
        }
      ]
    },
    {
      "metadata": {
        "id": "Nj6wCtEcBhAc",
        "colab_type": "text"
      },
      "cell_type": "markdown",
      "source": [
        "* Calculamos a taxa de sobreviventes por classe"
      ]
    },
    {
      "metadata": {
        "id": "RLVe5BuzB06Y",
        "colab_type": "code",
        "colab": {
          "base_uri": "https://localhost:8080/",
          "height": 101
        },
        "outputId": "eda8dcff-c7e0-452a-af05-c89a63091502"
      },
      "cell_type": "code",
      "source": [
        "print('Taxa de sobreviventes por classe')\n",
        "print('Primeira Classe: {:.2f}%'.format((sob_primeira/t_primeira)*100))\n",
        "print('Segunda Classe: {:.2f}%'.format((sob_segunda/t_segunda)*100))\n",
        "print('Terceira Classe: {:.2f}%'.format((sob_terceira/t_terceira)*100))\n",
        "print('A primeira classe teve a maior taxa de sobreviventes entre as classes, com 62.96%')"
      ],
      "execution_count": 68,
      "outputs": [
        {
          "output_type": "stream",
          "text": [
            "Taxa de sobreviventes por classe\n",
            "Primeira Classe: 62.96\n",
            "Segunda Classe: 47.28\n",
            "Terceira Classe: 24.24\n",
            " A primeira classe teve a maior taxa de sobreviventes entre as classes, com 62.96%\n"
          ],
          "name": "stdout"
        }
      ]
    },
    {
      "metadata": {
        "id": "cg1TfJ44Ett-",
        "colab_type": "text"
      },
      "cell_type": "markdown",
      "source": [
        "### 4. Qual porto de embarque teve a maior taxa de passageiros sobreviventes ?"
      ]
    },
    {
      "metadata": {
        "id": "4nS-RGJgBzRW",
        "colab_type": "text"
      },
      "cell_type": "markdown",
      "source": [
        "* Para responder, precisamos filtrar quantos passageiros cada porto embarcou "
      ]
    },
    {
      "metadata": {
        "id": "pzVtFnJ6wS-s",
        "colab_type": "code",
        "colab": {
          "base_uri": "https://localhost:8080/",
          "height": 84
        },
        "outputId": "8b684a23-929e-4767-bd6e-27f8ced02cc3"
      },
      "cell_type": "code",
      "source": [
        "emb_southamptom = df_titanic.query('Embarque == \"Southamptom\"').shape[0]\n",
        "emb_cherburg = df_titanic.query('Embarque == \"Cherburg\"').shape[0]\n",
        "emb_queenstown = df_titanic.query('Embarque == \"Queenstown\"').shape[0]\n",
        "emb_total = (emb_southamptom+emb_cherburg+emb_queenstown)\n",
        "print('Total de passageiros embarcados por cada porto:')\n",
        "print('Southamptom:{}, Cherburg: {}, Queenstown: {}'.format(emb_southamptom, emb_cherburg, emb_queenstown))\n",
        "print('Total de embarcados: {}'.format(emb_total))\n",
        "print('Southampton foi o porto com maior taxa de embarque: : {:.2f} '.format((emb_southamptom/emb_total)*100))"
      ],
      "execution_count": 80,
      "outputs": [
        {
          "output_type": "stream",
          "text": [
            "Total de passageiros embarcados por cada porto:\n",
            "Southamptom:644, Cherburg: 168, Queenstown: 77\n",
            "Total de embarcados: 889\n",
            "Southampton foi o porto com maior taxa de embarque: : 72.44 \n"
          ],
          "name": "stdout"
        }
      ]
    },
    {
      "metadata": {
        "id": "G2R67JvH2M0H",
        "colab_type": "text"
      },
      "cell_type": "markdown",
      "source": [
        "* Agora filtramos os sobreviventes por cada porto"
      ]
    },
    {
      "metadata": {
        "id": "W-LcEDSuHK7x",
        "colab_type": "code",
        "colab": {
          "base_uri": "https://localhost:8080/",
          "height": 50
        },
        "outputId": "b46310d6-b0a5-4dea-8762-b1eb40ec0f2e"
      },
      "cell_type": "code",
      "source": [
        "sob_southamptom = sobreviv.query('Embarque == \"Southamptom\"').shape[0]\n",
        "sob_cherburg = sobreviv.query('Embarque == \"Cherburg\"').shape[0]\n",
        "sob_queenstown = sobreviv.query('Embarque == \"Queenstown\"').shape[0]\n",
        "print('Total de passageiros sobreviventes por cada porto:')\n",
        "print('Southamptom:{}, Cherburg: {}, Queenstown: {}'.format(sob_southamptom, sob_cherburg, sob_queenstown))"
      ],
      "execution_count": 70,
      "outputs": [
        {
          "output_type": "stream",
          "text": [
            "Total de passageiros sobreviventes por cada porto:\n",
            "Southamptom:217, Cherburg: 93, Queenstown: 30\n"
          ],
          "name": "stdout"
        }
      ]
    },
    {
      "metadata": {
        "id": "3XuatPnBHjCS",
        "colab_type": "text"
      },
      "cell_type": "markdown",
      "source": [
        "* Calculamos a taxa de sobrevivência por local de embarque"
      ]
    },
    {
      "metadata": {
        "id": "2oFOwGQHHrlX",
        "colab_type": "code",
        "colab": {
          "base_uri": "https://localhost:8080/",
          "height": 101
        },
        "outputId": "dcf428b1-f7c9-441d-eeb0-a2383aa412bf"
      },
      "cell_type": "code",
      "source": [
        "print('taxa de sobrevivencia por porto de embarque')\n",
        "print('Southamptom: {:.2f}%'.format((sob_southamptom/emb_southamptom)*100))\n",
        "print('Cherburg: {:.2f}%'.format((sob_cherburg/emb_cherburg)*100))\n",
        "print('Queenstown: {:.2f}%'.format((sob_queenstown/emb_queenstown)*100))\n",
        "print('Cherburg teve a maior taxa de sobrevivencia com 55.36% de seus embarcados')"
      ],
      "execution_count": 73,
      "outputs": [
        {
          "output_type": "stream",
          "text": [
            "taxa de sobrevivencia por porto de embarque\n",
            "Southamptom: 33.70%\n",
            "Cherburg: 55.36%\n",
            "Queenstown: 38.96%\n",
            "Cherburg teve a maior taxa de sobrevivencia com 55.36% de seus embarcados\n"
          ],
          "name": "stdout"
        }
      ]
    },
    {
      "metadata": {
        "id": "aI0VFz68DitK",
        "colab_type": "code",
        "colab": {}
      },
      "cell_type": "code",
      "source": [
        ""
      ],
      "execution_count": 0,
      "outputs": []
    },
    {
      "metadata": {
        "id": "ocSyGwxaKOz9",
        "colab_type": "text"
      },
      "cell_type": "markdown",
      "source": [
        "## Conclusões\n",
        "\n",
        "* Após esta análise concluímos que apesar de os homens terem sido a maioria dos passageiros do titanic, 577 contra 314 mulheres, elas foram prioridade na saída do navio e foram salvas 233 delas, 61,8% do total.\n",
        "* As classes eram separadas em andares no navio, a primeira ficava na parte mais alta e mais proxima aos botes salva-vidas, com a segunda e a terceira logo abaixo, isso pode ter permitido uma maior taxa de salvamento da primeira classe com 62,96% dos passageiros, a segunda veio logo depois com 47,28% e a terceira, a mais distante ficou com a menor parcela dos sobreviventes com 24,24%.\n",
        "* O navio passou por 3 portos onde passageiros puderam embarcar: Southamptom, Chesburg e Queenstown, Southamptom embarcou mais passageiros 644, 72.44% do total, mas Cherburg com apenas 168 embarcados teve uma taxa mais alta de sobreviventes 55,36% enquanto Southamptom teve apenas 33,7% dos sobreviventes\n"
      ]
    },
    {
      "metadata": {
        "id": "Mb5u-sX7vZD6",
        "colab_type": "text"
      },
      "cell_type": "markdown",
      "source": [
        "## Limitações"
      ]
    },
    {
      "metadata": {
        "id": "SHcu4Cezvjtp",
        "colab_type": "text"
      },
      "cell_type": "markdown",
      "source": [
        "No dataset algumas informações não estavam completas ou precisavam de alterações para fornecer uma análise mais precisa:\n",
        "\n",
        "* Cabin - Faltavam 687 dados sobre as cabines que os passageiros ocupavam, sendo que o total era de 891 passageiros, com menos da metade desses dados optou-se por excluir essas informações da análise por não ter como contornar o problema.\n",
        "\n",
        "* Age - A idade estava faltando em 177 registros de passageiros, como a não utilização desse dado poderia aumentar a margem de erro, optou-se por definir a idade dos passageiros faltantes com a média encontrada dos presentes.\n",
        "\n",
        "* Embarked - Faltavam locais de embarque para 2 passageiros, optou-se por definir o local como 'Ausente' para o local de embarque e continuar com os dados na análise.\n",
        "\n",
        "* PassengerId e Ticket - Não possuiam informações relevantes no dicionário de dados e foram excuídos da análise.\n",
        "\n",
        "* Dados em língua inglesa - para facilitar a leitura os dados foram traduzidos para a língua portuguêsa afim de facilitar a leitura por parte de pessoas não familiarizadas com a língua inglesa."
      ]
    },
    {
      "metadata": {
        "id": "kzni9mhbP8Um",
        "colab_type": "text"
      },
      "cell_type": "markdown",
      "source": [
        "## Bibliografia"
      ]
    },
    {
      "metadata": {
        "id": "91StTZlgQJQF",
        "colab_type": "text"
      },
      "cell_type": "markdown",
      "source": [
        "* Documentação do pandas:\n",
        "https://pandas.pydata.org/\n",
        "\n",
        "* Blog Felipe Galvão-  Visualização de Dados com matplotlib\n",
        "http://felipegalvao.com.br/blog/2016/03/08/visualizacao-de-dados-com-python-matplotlib/\n",
        "\n",
        "* Documentação Matplotlib\n",
        "https://matplotlib.org\n",
        "\n",
        "* Blog Paulo Vasconcelos - Data Scientist\n",
        "https://paulovasconcellos.com.br/o-que-o-naufr%C3%A1gio-do-titanic-nos-ensina-at%C3%A9-hoje-data-science-project-2fea8ff1c9b5\n"
      ]
    },
    {
      "metadata": {
        "id": "P01k4t6uKRbG",
        "colab_type": "code",
        "colab": {}
      },
      "cell_type": "code",
      "source": [
        ""
      ],
      "execution_count": 0,
      "outputs": []
    }
  ]
}